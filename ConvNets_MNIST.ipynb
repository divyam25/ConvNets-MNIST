{
  "nbformat": 4,
  "nbformat_minor": 0,
  "metadata": {
    "colab": {
      "name": "ConvNets MNIST.ipynb",
      "version": "0.3.2",
      "views": {},
      "default_view": {},
      "provenance": [],
      "collapsed_sections": []
    },
    "kernelspec": {
      "name": "python3",
      "display_name": "Python 3"
    },
    "accelerator": "GPU"
  },
  "cells": [
    {
      "metadata": {
        "id": "Y81VQBv4TypJ",
        "colab_type": "code",
        "colab": {
          "autoexec": {
            "startup": false,
            "wait_interval": 0
          },
          "base_uri": "https://localhost:8080/",
          "height": 71
        },
        "outputId": "45939113-d7d7-4895-c518-2a7fd04b2ee6",
        "executionInfo": {
          "status": "ok",
          "timestamp": 1528645190523,
          "user_tz": -330,
          "elapsed": 5172,
          "user": {
            "displayName": "Divyam Srivastava",
            "photoUrl": "//lh3.googleusercontent.com/-WZcfnp5pNtk/AAAAAAAAAAI/AAAAAAAAAXo/yGhBvt-FNho/s50-c-k-no/photo.jpg",
            "userId": "112121959970026521392"
          }
        }
      },
      "cell_type": "code",
      "source": [
        "!pip install -U -q PyDrive        #machine learning libraries\n",
        "!pip install -q keras\n",
        "from pydrive.auth import GoogleAuth\n",
        "from pydrive.drive import GoogleDrive\n",
        "from google.colab import auth\n",
        "from oauth2client.client import GoogleCredentials\n",
        "import numpy as np\n",
        "import pandas as pd\n",
        "from skimage import io\n",
        "from sklearn.cross_validation import train_test_split\n",
        "from sklearn.linear_model import LogisticRegression as LR\n",
        "from sklearn.model_selection import GridSearchCV as gsc\n",
        "import pickle\n",
        "\n"
      ],
      "execution_count": 2,
      "outputs": [
        {
          "output_type": "stream",
          "text": [
            "/usr/local/lib/python3.6/dist-packages/sklearn/cross_validation.py:41: DeprecationWarning: This module was deprecated in version 0.18 in favor of the model_selection module into which all the refactored classes and functions are moved. Also note that the interface of the new CV iterators are different from that of this module. This module will be removed in 0.20.\n",
            "  \"This module will be removed in 0.20.\", DeprecationWarning)\n"
          ],
          "name": "stderr"
        }
      ]
    },
    {
      "metadata": {
        "id": "CyX7SvTuF-LA",
        "colab_type": "code",
        "colab": {
          "autoexec": {
            "startup": false,
            "wait_interval": 0
          },
          "base_uri": "https://localhost:8080/",
          "height": 34
        },
        "outputId": "52186043-47f4-4d67-9ddd-4596a0d85bcd",
        "executionInfo": {
          "status": "ok",
          "timestamp": 1528645193388,
          "user_tz": -330,
          "elapsed": 2018,
          "user": {
            "displayName": "Divyam Srivastava",
            "photoUrl": "//lh3.googleusercontent.com/-WZcfnp5pNtk/AAAAAAAAAAI/AAAAAAAAAXo/yGhBvt-FNho/s50-c-k-no/photo.jpg",
            "userId": "112121959970026521392"
          }
        }
      },
      "cell_type": "code",
      "source": [
        "from keras.models import Sequential   #DeepLearning Libraries\n",
        "from keras.layers import Dense\n",
        "from keras.layers import Dropout\n",
        "from keras.layers import Flatten\n",
        "from keras.optimizers import Adam\n",
        "from keras.layers.convolutional import Conv2D\n",
        "from keras.layers.convolutional import MaxPooling2D\n",
        "from keras.utils import np_utils"
      ],
      "execution_count": 3,
      "outputs": [
        {
          "output_type": "stream",
          "text": [
            "Using TensorFlow backend.\n"
          ],
          "name": "stderr"
        }
      ]
    },
    {
      "metadata": {
        "id": "61pe6py4aBCL",
        "colab_type": "code",
        "colab": {
          "autoexec": {
            "startup": false,
            "wait_interval": 0
          }
        }
      },
      "cell_type": "code",
      "source": [
        "auth.authenticate_user()\n",
        "gauth = GoogleAuth()\n",
        "gauth.credentials = GoogleCredentials.get_application_default()\n",
        "drive = GoogleDrive(gauth)"
      ],
      "execution_count": 0,
      "outputs": []
    },
    {
      "metadata": {
        "id": "JTt8oUE6g3vq",
        "colab_type": "text"
      },
      "cell_type": "markdown",
      "source": [
        "**Image file loaded**"
      ]
    },
    {
      "metadata": {
        "id": "PcKBbNaHau6Q",
        "colab_type": "code",
        "colab": {
          "autoexec": {
            "startup": false,
            "wait_interval": 0
          }
        }
      },
      "cell_type": "code",
      "source": [
        "train_image = drive.CreateFile({'id' : '1D2clbBveWZ9H8JGL6a3SVBpHHp_YF9iB'})\n",
        "train_image.GetContentFile('train.csv')"
      ],
      "execution_count": 0,
      "outputs": []
    },
    {
      "metadata": {
        "id": "jNLWhLzseWrW",
        "colab_type": "code",
        "colab": {
          "autoexec": {
            "startup": false,
            "wait_interval": 0
          }
        }
      },
      "cell_type": "code",
      "source": [
        "train_data = pd.read_csv('train.csv')"
      ],
      "execution_count": 0,
      "outputs": []
    },
    {
      "metadata": {
        "id": "gXVrAkHXlfBh",
        "colab_type": "code",
        "colab": {
          "autoexec": {
            "startup": false,
            "wait_interval": 0
          }
        }
      },
      "cell_type": "code",
      "source": [
        "train_data_y = train_data.label.as_matrix()"
      ],
      "execution_count": 0,
      "outputs": []
    },
    {
      "metadata": {
        "id": "0k-upspPJt5f",
        "colab_type": "code",
        "colab": {
          "autoexec": {
            "startup": false,
            "wait_interval": 0
          }
        }
      },
      "cell_type": "code",
      "source": [
        "train_data_x = np.matrix(train_data.values[:,1:])"
      ],
      "execution_count": 0,
      "outputs": []
    },
    {
      "metadata": {
        "id": "KgV_JPV3J9dx",
        "colab_type": "code",
        "colab": {
          "autoexec": {
            "startup": false,
            "wait_interval": 0
          },
          "base_uri": "https://localhost:8080/",
          "height": 34
        },
        "outputId": "33dc9a5a-2365-4206-bdcb-162b163d8aa3",
        "executionInfo": {
          "status": "ok",
          "timestamp": 1528645213073,
          "user_tz": -330,
          "elapsed": 1148,
          "user": {
            "displayName": "Divyam Srivastava",
            "photoUrl": "//lh3.googleusercontent.com/-WZcfnp5pNtk/AAAAAAAAAAI/AAAAAAAAAXo/yGhBvt-FNho/s50-c-k-no/photo.jpg",
            "userId": "112121959970026521392"
          }
        }
      },
      "cell_type": "code",
      "source": [
        "train_data_y"
      ],
      "execution_count": 9,
      "outputs": [
        {
          "output_type": "execute_result",
          "data": {
            "text/plain": [
              "array([1, 0, 1, ..., 7, 6, 9])"
            ]
          },
          "metadata": {
            "tags": []
          },
          "execution_count": 9
        }
      ]
    },
    {
      "metadata": {
        "id": "6ItWHapcK1dr",
        "colab_type": "code",
        "colab": {
          "autoexec": {
            "startup": false,
            "wait_interval": 0
          },
          "base_uri": "https://localhost:8080/",
          "height": 136
        },
        "outputId": "62bda6d4-ec21-4c78-c4ea-c94d1726aa58",
        "executionInfo": {
          "status": "ok",
          "timestamp": 1528645214206,
          "user_tz": -330,
          "elapsed": 954,
          "user": {
            "displayName": "Divyam Srivastava",
            "photoUrl": "//lh3.googleusercontent.com/-WZcfnp5pNtk/AAAAAAAAAAI/AAAAAAAAAXo/yGhBvt-FNho/s50-c-k-no/photo.jpg",
            "userId": "112121959970026521392"
          }
        }
      },
      "cell_type": "code",
      "source": [
        "train_data_x\n"
      ],
      "execution_count": 10,
      "outputs": [
        {
          "output_type": "execute_result",
          "data": {
            "text/plain": [
              "matrix([[0, 0, 0, ..., 0, 0, 0],\n",
              "        [0, 0, 0, ..., 0, 0, 0],\n",
              "        [0, 0, 0, ..., 0, 0, 0],\n",
              "        ...,\n",
              "        [0, 0, 0, ..., 0, 0, 0],\n",
              "        [0, 0, 0, ..., 0, 0, 0],\n",
              "        [0, 0, 0, ..., 0, 0, 0]])"
            ]
          },
          "metadata": {
            "tags": []
          },
          "execution_count": 10
        }
      ]
    },
    {
      "metadata": {
        "id": "YAtQwAPphJNk",
        "colab_type": "text"
      },
      "cell_type": "markdown",
      "source": [
        "**Splitting the dataset into training and testing sets.**"
      ]
    },
    {
      "metadata": {
        "id": "NCBvm2xMLJ-x",
        "colab_type": "code",
        "colab": {
          "autoexec": {
            "startup": false,
            "wait_interval": 0
          }
        }
      },
      "cell_type": "code",
      "source": [
        "X_train, X_test, y_train, y_test = train_test_split(train_data_x, train_data_y, test_size = 0.2, random_state = 92)  "
      ],
      "execution_count": 0,
      "outputs": []
    },
    {
      "metadata": {
        "id": "6ovGN5mBlLky",
        "colab_type": "text"
      },
      "cell_type": "markdown",
      "source": [
        "**Displaying random image visualisation from pixels for the training data**"
      ]
    },
    {
      "metadata": {
        "id": "mEWaBRoDfRLE",
        "colab_type": "code",
        "colab": {
          "autoexec": {
            "startup": false,
            "wait_interval": 0
          },
          "base_uri": "https://localhost:8080/",
          "height": 506
        },
        "outputId": "b7dd4144-df34-44e3-840d-f24919faaded",
        "executionInfo": {
          "status": "ok",
          "timestamp": 1528645222277,
          "user_tz": -330,
          "elapsed": 1237,
          "user": {
            "displayName": "Divyam Srivastava",
            "photoUrl": "//lh3.googleusercontent.com/-WZcfnp5pNtk/AAAAAAAAAAI/AAAAAAAAAXo/yGhBvt-FNho/s50-c-k-no/photo.jpg",
            "userId": "112121959970026521392"
          }
        }
      },
      "cell_type": "code",
      "source": [
        "io.imshow(np.reshape(X_train[699],(28,28)))"
      ],
      "execution_count": 12,
      "outputs": [
        {
          "output_type": "stream",
          "text": [
            "/usr/local/lib/python3.6/dist-packages/skimage/io/_plugins/matplotlib_plugin.py:51: FutureWarning: Conversion of the second argument of issubdtype from `float` to `np.floating` is deprecated. In future, it will be treated as `np.float64 == np.dtype(float).type`.\n",
            "  out_of_range_float = (np.issubdtype(image.dtype, np.float) and\n",
            "/usr/local/lib/python3.6/dist-packages/skimage/io/_plugins/matplotlib_plugin.py:74: UserWarning: Low image data range; displaying image with stretched contrast.\n",
            "  warn(\"Low image data range; displaying image with \"\n"
          ],
          "name": "stderr"
        },
        {
          "output_type": "execute_result",
          "data": {
            "text/plain": [
              "<matplotlib.image.AxesImage at 0x7fbfcc74af98>"
            ]
          },
          "metadata": {
            "tags": []
          },
          "execution_count": 12
        },
        {
          "output_type": "display_data",
          "data": {
            "image/png": "[encoded data removed]",
            "text/plain": [
              "<matplotlib.figure.Figure at 0x7fbfcc4aa748>"
            ]
          },
          "metadata": {
            "tags": []
          }
        }
      ]
    },
    {
      "metadata": {
        "id": "qb2_PuCei_gf",
        "colab_type": "code",
        "colab": {
          "autoexec": {
            "startup": false,
            "wait_interval": 0
          },
          "base_uri": "https://localhost:8080/",
          "height": 34
        },
        "outputId": "60270c9d-895c-43f3-e3d0-a3c94eda3aaa",
        "executionInfo": {
          "status": "ok",
          "timestamp": 1528645226404,
          "user_tz": -330,
          "elapsed": 1075,
          "user": {
            "displayName": "Divyam Srivastava",
            "photoUrl": "//lh3.googleusercontent.com/-WZcfnp5pNtk/AAAAAAAAAAI/AAAAAAAAAXo/yGhBvt-FNho/s50-c-k-no/photo.jpg",
            "userId": "112121959970026521392"
          }
        }
      },
      "cell_type": "code",
      "source": [
        "y_train[699]"
      ],
      "execution_count": 13,
      "outputs": [
        {
          "output_type": "execute_result",
          "data": {
            "text/plain": [
              "7"
            ]
          },
          "metadata": {
            "tags": []
          },
          "execution_count": 13
        }
      ]
    },
    {
      "metadata": {
        "id": "KTBQvJ5OhbxU",
        "colab_type": "text"
      },
      "cell_type": "markdown",
      "source": [
        "**Creating a logistic regression model for setting a baseline accuracy. Convolutional NeuralNets have to perform better than this atleast.**"
      ]
    },
    {
      "metadata": {
        "id": "_UAjUzUVLg2h",
        "colab_type": "code",
        "colab": {
          "autoexec": {
            "startup": false,
            "wait_interval": 0
          }
        }
      },
      "cell_type": "code",
      "source": [
        "parameters = {'C' : [0.01]}\n",
        "clf=gsc(LR(),parameters,verbose = 5)"
      ],
      "execution_count": 0,
      "outputs": []
    },
    {
      "metadata": {
        "id": "srMs_tJHLiQs",
        "colab_type": "code",
        "colab": {
          "autoexec": {
            "startup": false,
            "wait_interval": 0
          },
          "base_uri": "https://localhost:8080/",
          "height": 340
        },
        "outputId": "94093576-8eca-46b0-b28b-1b49157e9ade",
        "executionInfo": {
          "status": "ok",
          "timestamp": 1528478309174,
          "user_tz": -330,
          "elapsed": 2140423,
          "user": {
            "displayName": "Divyam Srivastava",
            "photoUrl": "//lh3.googleusercontent.com/-WZcfnp5pNtk/AAAAAAAAAAI/AAAAAAAAAXo/yGhBvt-FNho/s50-c-k-no/photo.jpg",
            "userId": "112121959970026521392"
          }
        }
      },
      "cell_type": "code",
      "source": [
        "clf.fit(X_train,y_train)"
      ],
      "execution_count": 11,
      "outputs": [
        {
          "output_type": "stream",
          "text": [
            "Fitting 3 folds for each of 1 candidates, totalling 3 fits\n",
            "[CV] C=0.01 ..........................................................\n",
            "[CV] ................. C=0.01, score=0.8917350946090682, total= 6.5min\n",
            "[CV] C=0.01 ..........................................................\n"
          ],
          "name": "stdout"
        },
        {
          "output_type": "stream",
          "text": [
            "[Parallel(n_jobs=1)]: Done   1 out of   1 | elapsed:  6.5min remaining:    0.0s\n"
          ],
          "name": "stderr"
        },
        {
          "output_type": "stream",
          "text": [
            "[CV] ................. C=0.01, score=0.9008928571428572, total= 6.9min\n",
            "[CV] C=0.01 ..........................................................\n"
          ],
          "name": "stdout"
        },
        {
          "output_type": "stream",
          "text": [
            "[Parallel(n_jobs=1)]: Done   2 out of   2 | elapsed: 13.4min remaining:    0.0s\n"
          ],
          "name": "stderr"
        },
        {
          "output_type": "stream",
          "text": [
            "[CV] ................. C=0.01, score=0.8964808860307253, total= 7.0min\n"
          ],
          "name": "stdout"
        },
        {
          "output_type": "stream",
          "text": [
            "[Parallel(n_jobs=1)]: Done   3 out of   3 | elapsed: 20.4min remaining:    0.0s\n",
            "[Parallel(n_jobs=1)]: Done   3 out of   3 | elapsed: 20.4min finished\n"
          ],
          "name": "stderr"
        },
        {
          "output_type": "execute_result",
          "data": {
            "text/plain": [
              "GridSearchCV(cv=None, error_score='raise',\n",
              "       estimator=LogisticRegression(C=1.0, class_weight=None, dual=False, fit_intercept=True,\n",
              "          intercept_scaling=1, max_iter=100, multi_class='ovr', n_jobs=1,\n",
              "          penalty='l2', random_state=None, solver='liblinear', tol=0.0001,\n",
              "          verbose=0, warm_start=False),\n",
              "       fit_params=None, iid=True, n_jobs=1, param_grid={'C': [0.01]},\n",
              "       pre_dispatch='2*n_jobs', refit=True, return_train_score='warn',\n",
              "       scoring=None, verbose=5)"
            ]
          },
          "metadata": {
            "tags": []
          },
          "execution_count": 11
        }
      ]
    },
    {
      "metadata": {
        "id": "sIAffvIgh3WJ",
        "colab_type": "text"
      },
      "cell_type": "markdown",
      "source": [
        "**Model Trained ... Dumping trained model to a pickle file**"
      ]
    },
    {
      "metadata": {
        "id": "DLsNRBd5NtIH",
        "colab_type": "code",
        "colab": {
          "autoexec": {
            "startup": false,
            "wait_interval": 0
          }
        }
      },
      "cell_type": "code",
      "source": [
        "pickle.dump(clf,open(\"LRModel.p\",\"wb\"))"
      ],
      "execution_count": 0,
      "outputs": []
    },
    {
      "metadata": {
        "id": "o6U92VykiFJq",
        "colab_type": "text"
      },
      "cell_type": "markdown",
      "source": [
        "**The Sigmoidal Model accuracy. Looks like i gotta make pretty awesome conv layers to achieve this min accuracy. **"
      ]
    },
    {
      "metadata": {
        "id": "uaBE330Ie93P",
        "colab_type": "code",
        "colab": {
          "autoexec": {
            "startup": false,
            "wait_interval": 0
          },
          "base_uri": "https://localhost:8080/",
          "height": 34
        },
        "outputId": "8ef71dfc-62b1-4c49-cceb-4452d182bbcb",
        "executionInfo": {
          "status": "ok",
          "timestamp": 1528480078027,
          "user_tz": -330,
          "elapsed": 1394,
          "user": {
            "displayName": "Divyam Srivastava",
            "photoUrl": "//lh3.googleusercontent.com/-WZcfnp5pNtk/AAAAAAAAAAI/AAAAAAAAAXo/yGhBvt-FNho/s50-c-k-no/photo.jpg",
            "userId": "112121959970026521392"
          }
        }
      },
      "cell_type": "code",
      "source": [
        "clf.score(X_test,y_test)"
      ],
      "execution_count": 14,
      "outputs": [
        {
          "output_type": "execute_result",
          "data": {
            "text/plain": [
              "0.9048809523809523"
            ]
          },
          "metadata": {
            "tags": []
          },
          "execution_count": 14
        }
      ]
    },
    {
      "metadata": {
        "id": "JFwI0HOQronr",
        "colab_type": "code",
        "colab": {
          "autoexec": {
            "startup": false,
            "wait_interval": 0
          }
        }
      },
      "cell_type": "code",
      "source": [
        "X_train_K = np.array(X_train).reshape(33600,28,28,1)   #playin around !\n",
        "X_test_K = np.array(X_test).reshape(8400,28,28,1)"
      ],
      "execution_count": 0,
      "outputs": []
    },
    {
      "metadata": {
        "id": "vRJ0W1wPVxMJ",
        "colab_type": "code",
        "colab": {
          "autoexec": {
            "startup": false,
            "wait_interval": 0
          },
          "base_uri": "https://localhost:8080/",
          "height": 34
        },
        "outputId": "058f5810-a3b3-44a1-c95e-6e0a3bd14322",
        "executionInfo": {
          "status": "ok",
          "timestamp": 1528645233783,
          "user_tz": -330,
          "elapsed": 1065,
          "user": {
            "displayName": "Divyam Srivastava",
            "photoUrl": "//lh3.googleusercontent.com/-WZcfnp5pNtk/AAAAAAAAAAI/AAAAAAAAAXo/yGhBvt-FNho/s50-c-k-no/photo.jpg",
            "userId": "112121959970026521392"
          }
        }
      },
      "cell_type": "code",
      "source": [
        "y_test.shape"
      ],
      "execution_count": 15,
      "outputs": [
        {
          "output_type": "execute_result",
          "data": {
            "text/plain": [
              "(8400,)"
            ]
          },
          "metadata": {
            "tags": []
          },
          "execution_count": 15
        }
      ]
    },
    {
      "metadata": {
        "id": "zevWw4f6GyD_",
        "colab_type": "code",
        "colab": {
          "autoexec": {
            "startup": false,
            "wait_interval": 0
          }
        }
      },
      "cell_type": "code",
      "source": [
        "y_train = np_utils.to_categorical(y_train)\n",
        "y_test = np_utils.to_categorical(y_test)\n",
        "num_classes = y_test.shape[1]"
      ],
      "execution_count": 0,
      "outputs": []
    },
    {
      "metadata": {
        "id": "NvrXLlioW0ZS",
        "colab_type": "code",
        "colab": {
          "autoexec": {
            "startup": false,
            "wait_interval": 0
          },
          "base_uri": "https://localhost:8080/",
          "height": 34
        },
        "outputId": "e8b6ad8c-0d6c-47d2-9ba4-fbe0589bf67a",
        "executionInfo": {
          "status": "ok",
          "timestamp": 1528645262171,
          "user_tz": -330,
          "elapsed": 1081,
          "user": {
            "displayName": "Divyam Srivastava",
            "photoUrl": "//lh3.googleusercontent.com/-WZcfnp5pNtk/AAAAAAAAAAI/AAAAAAAAAXo/yGhBvt-FNho/s50-c-k-no/photo.jpg",
            "userId": "112121959970026521392"
          }
        }
      },
      "cell_type": "code",
      "source": [
        "y_train.shape"
      ],
      "execution_count": 19,
      "outputs": [
        {
          "output_type": "execute_result",
          "data": {
            "text/plain": [
              "(33600, 10)"
            ]
          },
          "metadata": {
            "tags": []
          },
          "execution_count": 19
        }
      ]
    },
    {
      "metadata": {
        "id": "sVN1w_odIKYe",
        "colab_type": "code",
        "colab": {
          "autoexec": {
            "startup": false,
            "wait_interval": 0
          },
          "base_uri": "https://localhost:8080/",
          "height": 425
        },
        "outputId": "9c6b01d0-b79e-42ad-a2f1-220bc78ea19c",
        "executionInfo": {
          "status": "ok",
          "timestamp": 1528645268944,
          "user_tz": -330,
          "elapsed": 1139,
          "user": {
            "displayName": "Divyam Srivastava",
            "photoUrl": "//lh3.googleusercontent.com/-WZcfnp5pNtk/AAAAAAAAAAI/AAAAAAAAAXo/yGhBvt-FNho/s50-c-k-no/photo.jpg",
            "userId": "112121959970026521392"
          }
        }
      },
      "cell_type": "code",
      "source": [
        "model = Sequential()\n",
        "model.add(Conv2D(32, (3, 3), input_shape=(28, 28, 1), padding='valid', activation='relu'))\n",
        "model.add(MaxPooling2D(pool_size=(2, 2)))\n",
        "model.add(Conv2D(32, (3, 3), activation='relu', padding='valid'))\n",
        "model.add(MaxPooling2D(pool_size=(2, 2)))\n",
        "model.add(Flatten())\n",
        "model.add(Dense(300, activation='relu'))\n",
        "model.add(Dropout(0.5))\n",
        "model.add(Dense(num_classes, activation='softmax'))\n",
        "model.compile(optimizer='Adam',\n",
        "              loss='categorical_crossentropy',\n",
        "              metrics=['accuracy'])\n",
        "print(model.summary())"
      ],
      "execution_count": 20,
      "outputs": [
        {
          "output_type": "stream",
          "text": [
            "_________________________________________________________________\n",
            "Layer (type)                 Output Shape              Param #   \n",
            "=================================================================\n",
            "conv2d_1 (Conv2D)            (None, 26, 26, 32)        320       \n",
            "_________________________________________________________________\n",
            "max_pooling2d_1 (MaxPooling2 (None, 13, 13, 32)        0         \n",
            "_________________________________________________________________\n",
            "conv2d_2 (Conv2D)            (None, 11, 11, 32)        9248      \n",
            "_________________________________________________________________\n",
            "max_pooling2d_2 (MaxPooling2 (None, 5, 5, 32)          0         \n",
            "_________________________________________________________________\n",
            "flatten_1 (Flatten)          (None, 800)               0         \n",
            "_________________________________________________________________\n",
            "dense_1 (Dense)              (None, 300)               240300    \n",
            "_________________________________________________________________\n",
            "dropout_1 (Dropout)          (None, 300)               0         \n",
            "_________________________________________________________________\n",
            "dense_2 (Dense)              (None, 10)                3010      \n",
            "=================================================================\n",
            "Total params: 252,878\n",
            "Trainable params: 252,878\n",
            "Non-trainable params: 0\n",
            "_________________________________________________________________\n",
            "None\n"
          ],
          "name": "stdout"
        }
      ]
    },
    {
      "metadata": {
        "id": "HhnS-utzKwzt",
        "colab_type": "code",
        "colab": {
          "autoexec": {
            "startup": false,
            "wait_interval": 0
          },
          "base_uri": "https://localhost:8080/",
          "height": 921
        },
        "outputId": "cc782f47-efbd-4cd4-b8dc-271d1e752a8d",
        "executionInfo": {
          "status": "ok",
          "timestamp": 1528645322059,
          "user_tz": -330,
          "elapsed": 49850,
          "user": {
            "displayName": "Divyam Srivastava",
            "photoUrl": "//lh3.googleusercontent.com/-WZcfnp5pNtk/AAAAAAAAAAI/AAAAAAAAAXo/yGhBvt-FNho/s50-c-k-no/photo.jpg",
            "userId": "112121959970026521392"
          }
        }
      },
      "cell_type": "code",
      "source": [
        "model.fit(X_train_K, y_train, validation_data=(X_test_K, y_test), epochs=25, batch_size=300)"
      ],
      "execution_count": 21,
      "outputs": [
        {
          "output_type": "stream",
          "text": [
            "Train on 33600 samples, validate on 8400 samples\n",
            "Epoch 1/25\n",
            "33600/33600 [==============================] - 4s 111us/step - loss: 5.8397 - acc: 0.5979 - val_loss: 0.2770 - val_acc: 0.9320\n",
            "Epoch 2/25\n",
            "33600/33600 [==============================] - 2s 58us/step - loss: 0.2458 - acc: 0.9315 - val_loss: 0.1126 - val_acc: 0.9693\n",
            "Epoch 3/25\n",
            "33600/33600 [==============================] - 2s 58us/step - loss: 0.1313 - acc: 0.9612 - val_loss: 0.0881 - val_acc: 0.9736\n",
            "Epoch 4/25\n",
            "33600/33600 [==============================] - 2s 57us/step - loss: 0.0959 - acc: 0.9713 - val_loss: 0.0846 - val_acc: 0.9762\n",
            "Epoch 5/25\n",
            "33600/33600 [==============================] - 2s 56us/step - loss: 0.0802 - acc: 0.9756 - val_loss: 0.0756 - val_acc: 0.9798\n",
            "Epoch 6/25\n",
            "33600/33600 [==============================] - 2s 55us/step - loss: 0.0657 - acc: 0.9795 - val_loss: 0.0710 - val_acc: 0.9808\n",
            "Epoch 7/25\n",
            " 9900/33600 [=======>......................] - ETA: 1s - loss: 0.0461 - acc: 0.9854"
          ],
          "name": "stdout"
        },
        {
          "output_type": "stream",
          "text": [
            "33600/33600 [==============================] - 2s 56us/step - loss: 0.0556 - acc: 0.9826 - val_loss: 0.0682 - val_acc: 0.9821\n",
            "Epoch 8/25\n",
            "33600/33600 [==============================] - 2s 55us/step - loss: 0.0494 - acc: 0.9841 - val_loss: 0.0655 - val_acc: 0.9823\n",
            "Epoch 9/25\n",
            "33600/33600 [==============================] - 2s 55us/step - loss: 0.0385 - acc: 0.9872 - val_loss: 0.0650 - val_acc: 0.9835\n",
            "Epoch 10/25\n",
            "33600/33600 [==============================] - 2s 56us/step - loss: 0.0358 - acc: 0.9890 - val_loss: 0.0650 - val_acc: 0.9831\n",
            "Epoch 11/25\n",
            "33600/33600 [==============================] - 2s 56us/step - loss: 0.0320 - acc: 0.9893 - val_loss: 0.0638 - val_acc: 0.9846\n",
            "Epoch 12/25\n",
            "33600/33600 [==============================] - 2s 56us/step - loss: 0.0315 - acc: 0.9895 - val_loss: 0.0625 - val_acc: 0.9850\n",
            "Epoch 13/25\n",
            "29100/33600 [========================>.....] - ETA: 0s - loss: 0.0291 - acc: 0.9910"
          ],
          "name": "stdout"
        },
        {
          "output_type": "stream",
          "text": [
            "33600/33600 [==============================] - 2s 55us/step - loss: 0.0291 - acc: 0.9910 - val_loss: 0.0822 - val_acc: 0.9846\n",
            "Epoch 14/25\n",
            "33600/33600 [==============================] - 2s 55us/step - loss: 0.0266 - acc: 0.9914 - val_loss: 0.0693 - val_acc: 0.9852\n",
            "Epoch 15/25\n",
            "33600/33600 [==============================] - 2s 56us/step - loss: 0.0254 - acc: 0.9915 - val_loss: 0.0638 - val_acc: 0.9850\n",
            "Epoch 16/25\n",
            "33600/33600 [==============================] - 2s 55us/step - loss: 0.0196 - acc: 0.9938 - val_loss: 0.0707 - val_acc: 0.9835\n",
            "Epoch 17/25\n",
            "33600/33600 [==============================] - 2s 55us/step - loss: 0.0239 - acc: 0.9924 - val_loss: 0.0620 - val_acc: 0.9858\n",
            "Epoch 18/25\n",
            "33600/33600 [==============================] - 2s 55us/step - loss: 0.0234 - acc: 0.9924 - val_loss: 0.0612 - val_acc: 0.9848\n",
            "Epoch 19/25\n",
            "30300/33600 [==========================>...] - ETA: 0s - loss: 0.0168 - acc: 0.9938"
          ],
          "name": "stdout"
        },
        {
          "output_type": "stream",
          "text": [
            "33600/33600 [==============================] - 2s 55us/step - loss: 0.0176 - acc: 0.9936 - val_loss: 0.0626 - val_acc: 0.9867\n",
            "Epoch 20/25\n",
            "33600/33600 [==============================] - 2s 55us/step - loss: 0.0161 - acc: 0.9947 - val_loss: 0.0637 - val_acc: 0.9871\n",
            "Epoch 21/25\n",
            "33600/33600 [==============================] - 2s 55us/step - loss: 0.0178 - acc: 0.9940 - val_loss: 0.0636 - val_acc: 0.9879\n",
            "Epoch 22/25\n",
            "33600/33600 [==============================] - 2s 56us/step - loss: 0.0142 - acc: 0.9953 - val_loss: 0.0698 - val_acc: 0.9860\n",
            "Epoch 23/25\n",
            "33600/33600 [==============================] - 2s 55us/step - loss: 0.0173 - acc: 0.9939 - val_loss: 0.0692 - val_acc: 0.9855\n",
            "Epoch 24/25\n",
            "33600/33600 [==============================] - 2s 55us/step - loss: 0.0212 - acc: 0.9930 - val_loss: 0.0654 - val_acc: 0.9869\n",
            "Epoch 25/25\n",
            "32100/33600 [===========================>..] - ETA: 0s - loss: 0.0159 - acc: 0.9950"
          ],
          "name": "stdout"
        },
        {
          "output_type": "stream",
          "text": [
            "33600/33600 [==============================] - 2s 55us/step - loss: 0.0160 - acc: 0.9949 - val_loss: 0.0653 - val_acc: 0.9862\n"
          ],
          "name": "stdout"
        },
        {
          "output_type": "execute_result",
          "data": {
            "text/plain": [
              "<keras.callbacks.History at 0x7fbfcc84b630>"
            ]
          },
          "metadata": {
            "tags": []
          },
          "execution_count": 21
        }
      ]
    },
    {
      "metadata": {
        "id": "B44CZgtqRmxi",
        "colab_type": "code",
        "colab": {
          "autoexec": {
            "startup": false,
            "wait_interval": 0
          },
          "base_uri": "https://localhost:8080/",
          "height": 34
        },
        "outputId": "6e2f0549-3911-4ea9-bdd3-c2fad59cb910",
        "executionInfo": {
          "status": "ok",
          "timestamp": 1528645488531,
          "user_tz": -330,
          "elapsed": 1590,
          "user": {
            "displayName": "Divyam Srivastava",
            "photoUrl": "//lh3.googleusercontent.com/-WZcfnp5pNtk/AAAAAAAAAAI/AAAAAAAAAXo/yGhBvt-FNho/s50-c-k-no/photo.jpg",
            "userId": "112121959970026521392"
          }
        }
      },
      "cell_type": "code",
      "source": [
        "scores = model.evaluate(X_test_K,y_test,verbose = 0)\n",
        "print(\"Accuracy: %.2f%%\" % (scores[1]*100))"
      ],
      "execution_count": 23,
      "outputs": [
        {
          "output_type": "stream",
          "text": [
            "Accuracy: 98.62%\n"
          ],
          "name": "stdout"
        }
      ]
    },
    {
      "metadata": {
        "id": "s2yXEWY2X3SB",
        "colab_type": "text"
      },
      "cell_type": "markdown",
      "source": [
        "**Voila!!! 98.62 % accuracy with a ConvNeuralNet with an AlexNet architecture**"
      ]
    }
  ]
}