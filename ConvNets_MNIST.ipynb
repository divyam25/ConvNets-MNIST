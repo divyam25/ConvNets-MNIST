{
  "nbformat": 4,
  "nbformat_minor": 0,
  "metadata": {
    "colab": {
      "name": "ConvNets_MNIST.ipynb",
      "version": "0.3.2",
      "views": {},
      "default_view": {},
      "provenance": [],
      "collapsed_sections": []
    },
    "kernelspec": {
      "name": "python3",
      "display_name": "Python 3"
    },
    "accelerator": "GPU"
  },
  "cells": [
    {
      "metadata": {
        "id": "Y81VQBv4TypJ",
        "colab_type": "code",
        "colab": {
          "autoexec": {
            "startup": false,
            "wait_interval": 0
          },
          "base_uri": "https://localhost:8080/",
          "height": 71
        },
        "outputId": "45939113-d7d7-4895-c518-2a7fd04b2ee6",
        "executionInfo": {
          "status": "ok",
          "timestamp": 1528645190523,
          "user_tz": -330,
          "elapsed": 5172,
          "user": {
            "displayName": "Divyam Srivastava",
            "photoUrl": "//lh3.googleusercontent.com/-WZcfnp5pNtk/AAAAAAAAAAI/AAAAAAAAAXo/yGhBvt-FNho/s50-c-k-no/photo.jpg",
            "userId": "112121959970026521392"
          }
        }
      },
      "cell_type": "code",
      "source": [
        "!pip install -U -q PyDrive        #machine learning libraries\n",
        "!pip install -q keras\n",
        "from pydrive.auth import GoogleAuth\n",
        "from pydrive.drive import GoogleDrive\n",
        "from google.colab import auth\n",
        "from oauth2client.client import GoogleCredentials\n",
        "import numpy as np\n",
        "import pandas as pd\n",
        "from skimage import io\n",
        "from sklearn.cross_validation import train_test_split\n",
        "from sklearn.linear_model import LogisticRegression as LR\n",
        "from sklearn.model_selection import GridSearchCV as gsc\n",
        "import pickle\n",
        "\n"
      ],
      "execution_count": 0,
      "outputs": [
        {
          "output_type": "stream",
          "text": [
            "/usr/local/lib/python3.6/dist-packages/sklearn/cross_validation.py:41: DeprecationWarning: This module was deprecated in version 0.18 in favor of the model_selection module into which all the refactored classes and functions are moved. Also note that the interface of the new CV iterators are different from that of this module. This module will be removed in 0.20.\n",
            "  \"This module will be removed in 0.20.\", DeprecationWarning)\n"
          ],
          "name": "stderr"
        }
      ]
    },
    {
      "metadata": {
        "id": "CyX7SvTuF-LA",
        "colab_type": "code",
        "colab": {
          "autoexec": {
            "startup": false,
            "wait_interval": 0
          },
          "base_uri": "https://localhost:8080/",
          "height": 34
        },
        "outputId": "52186043-47f4-4d67-9ddd-4596a0d85bcd",
        "executionInfo": {
          "status": "ok",
          "timestamp": 1528645193388,
          "user_tz": -330,
          "elapsed": 2018,
          "user": {
            "displayName": "Divyam Srivastava",
            "photoUrl": "//lh3.googleusercontent.com/-WZcfnp5pNtk/AAAAAAAAAAI/AAAAAAAAAXo/yGhBvt-FNho/s50-c-k-no/photo.jpg",
            "userId": "112121959970026521392"
          }
        }
      },
      "cell_type": "code",
      "source": [
        "from keras.models import Sequential   #DeepLearning Libraries\n",
        "from keras.layers import Dense\n",
        "from keras.layers import Dropout\n",
        "from keras.layers import Flatten\n",
        "from keras.optimizers import Adam\n",
        "from keras.layers.convolutional import Conv2D\n",
        "from keras.layers.convolutional import MaxPooling2D\n",
        "from keras.utils import np_utils"
      ],
      "execution_count": 0,
      "outputs": [
        {
          "output_type": "stream",
          "text": [
            "Using TensorFlow backend.\n"
          ],
          "name": "stderr"
        }
      ]
    },
    {
      "metadata": {
        "id": "61pe6py4aBCL",
        "colab_type": "code",
        "colab": {
          "autoexec": {
            "startup": false,
            "wait_interval": 0
          }
        }
      },
      "cell_type": "code",
      "source": [
        "auth.authenticate_user()\n",
        "gauth = GoogleAuth()\n",
        "gauth.credentials = GoogleCredentials.get_application_default()\n",
        "drive = GoogleDrive(gauth)"
      ],
      "execution_count": 0,
      "outputs": []
    },
    {
      "metadata": {
        "id": "JTt8oUE6g3vq",
        "colab_type": "text"
      },
      "cell_type": "markdown",
      "source": [
        "**Image file loaded**"
      ]
    },
    {
      "metadata": {
        "id": "PcKBbNaHau6Q",
        "colab_type": "code",
        "colab": {
          "autoexec": {
            "startup": false,
            "wait_interval": 0
          }
        }
      },
      "cell_type": "code",
      "source": [
        "train_image = drive.CreateFile({'id' : '1D2clbBveWZ9H8JGL6a3SVBpHHp_YF9iB'})\n",
        "train_image.GetContentFile('train.csv')"
      ],
      "execution_count": 0,
      "outputs": []
    },
    {
      "metadata": {
        "id": "jNLWhLzseWrW",
        "colab_type": "code",
        "colab": {
          "autoexec": {
            "startup": false,
            "wait_interval": 0
          }
        }
      },
      "cell_type": "code",
      "source": [
        "train_data = pd.read_csv('train.csv')"
      ],
      "execution_count": 0,
      "outputs": []
    },
    {
      "metadata": {
        "id": "gXVrAkHXlfBh",
        "colab_type": "code",
        "colab": {
          "autoexec": {
            "startup": false,
            "wait_interval": 0
          }
        }
      },
      "cell_type": "code",
      "source": [
        "train_data_y = train_data.label.as_matrix()"
      ],
      "execution_count": 0,
      "outputs": []
    },
    {
      "metadata": {
        "id": "0k-upspPJt5f",
        "colab_type": "code",
        "colab": {
          "autoexec": {
            "startup": false,
            "wait_interval": 0
          }
        }
      },
      "cell_type": "code",
      "source": [
        "train_data_x = np.matrix(train_data.values[:,1:])"
      ],
      "execution_count": 0,
      "outputs": []
    },
    {
      "metadata": {
        "id": "KgV_JPV3J9dx",
        "colab_type": "code",
        "colab": {
          "autoexec": {
            "startup": false,
            "wait_interval": 0
          },
          "base_uri": "https://localhost:8080/",
          "height": 34
        },
        "outputId": "33dc9a5a-2365-4206-bdcb-162b163d8aa3",
        "executionInfo": {
          "status": "ok",
          "timestamp": 1528645213073,
          "user_tz": -330,
          "elapsed": 1148,
          "user": {
            "displayName": "Divyam Srivastava",
            "photoUrl": "//lh3.googleusercontent.com/-WZcfnp5pNtk/AAAAAAAAAAI/AAAAAAAAAXo/yGhBvt-FNho/s50-c-k-no/photo.jpg",
            "userId": "112121959970026521392"
          }
        }
      },
      "cell_type": "code",
      "source": [
        "train_data_y"
      ],
      "execution_count": 0,
      "outputs": [
        {
          "output_type": "execute_result",
          "data": {
            "text/plain": [
              "array([1, 0, 1, ..., 7, 6, 9])"
            ]
          },
          "metadata": {
            "tags": []
          },
          "execution_count": 9
        }
      ]
    },
    {
      "metadata": {
        "id": "6ItWHapcK1dr",
        "colab_type": "code",
        "colab": {
          "autoexec": {
            "startup": false,
            "wait_interval": 0
          },
          "base_uri": "https://localhost:8080/",
          "height": 136
        },
        "outputId": "62bda6d4-ec21-4c78-c4ea-c94d1726aa58",
        "executionInfo": {
          "status": "ok",
          "timestamp": 1528645214206,
          "user_tz": -330,
          "elapsed": 954,
          "user": {
            "displayName": "Divyam Srivastava",
            "photoUrl": "//lh3.googleusercontent.com/-WZcfnp5pNtk/AAAAAAAAAAI/AAAAAAAAAXo/yGhBvt-FNho/s50-c-k-no/photo.jpg",
            "userId": "112121959970026521392"
          }
        }
      },
      "cell_type": "code",
      "source": [
        "train_data_x\n"
      ],
      "execution_count": 0,
      "outputs": [
        {
          "output_type": "execute_result",
          "data": {
            "text/plain": [
              "matrix([[0, 0, 0, ..., 0, 0, 0],\n",
              "        [0, 0, 0, ..., 0, 0, 0],\n",
              "        [0, 0, 0, ..., 0, 0, 0],\n",
              "        ...,\n",
              "        [0, 0, 0, ..., 0, 0, 0],\n",
              "        [0, 0, 0, ..., 0, 0, 0],\n",
              "        [0, 0, 0, ..., 0, 0, 0]])"
            ]
          },
          "metadata": {
            "tags": []
          },
          "execution_count": 10
        }
      ]
    },
    {
      "metadata": {
        "id": "YAtQwAPphJNk",
        "colab_type": "text"
      },
      "cell_type": "markdown",
      "source": [
        "**Splitting the dataset into training and testing sets.**"
      ]
    },
    {
      "metadata": {
        "id": "NCBvm2xMLJ-x",
        "colab_type": "code",
        "colab": {
          "autoexec": {
            "startup": false,
            "wait_interval": 0
          }
        }
      },
      "cell_type": "code",
      "source": [
        "X_train, X_test, y_train, y_test = train_test_split(train_data_x, train_data_y, test_size = 0.2, random_state = 92)  "
      ],
      "execution_count": 0,
      "outputs": []
    },
    {
      "metadata": {
        "id": "6ovGN5mBlLky",
        "colab_type": "text"
      },
      "cell_type": "markdown",
      "source": [
        "**Displaying random image visualisation from pixels for the training data**"
      ]
    },
    {
      "metadata": {
        "id": "mEWaBRoDfRLE",
        "colab_type": "code",
        "colab": {
          "autoexec": {
            "startup": false,
            "wait_interval": 0
          },
          "base_uri": "https://localhost:8080/",
          "height": 506
        },
        "outputId": "b7dd4144-df34-44e3-840d-f24919faaded",
        "executionInfo": {
          "status": "ok",
          "timestamp": 1528645222277,
          "user_tz": -330,
          "elapsed": 1237,
          "user": {
            "displayName": "Divyam Srivastava",
            "photoUrl": "//lh3.googleusercontent.com/-WZcfnp5pNtk/AAAAAAAAAAI/AAAAAAAAAXo/yGhBvt-FNho/s50-c-k-no/photo.jpg",
            "userId": "112121959970026521392"
          }
        }
      },
      "cell_type": "code",
      "source": [
        "io.imshow(np.reshape(X_train[699],(28,28)))"
      ],
      "execution_count": 0,
      "outputs": [
        {
          "output_type": "stream",
          "text": [
            "/usr/local/lib/python3.6/dist-packages/skimage/io/_plugins/matplotlib_plugin.py:51: FutureWarning: Conversion of the second argument of issubdtype from `float` to `np.floating` is deprecated. In future, it will be treated as `np.float64 == np.dtype(float).type`.\n",
            "  out_of_range_float = (np.issubdtype(image.dtype, np.float) and\n",
            "/usr/local/lib/python3.6/dist-packages/skimage/io/_plugins/matplotlib_plugin.py:74: UserWarning: Low image data range; displaying image with stretched contrast.\n",
            "  warn(\"Low image data range; displaying image with \"\n"
          ],
          "name": "stderr"
        },
        {
          "output_type": "execute_result",
          "data": {
            "text/plain": [
              "<matplotlib.image.AxesImage at 0x7fbfcc74af98>"
            ]
          },
          "metadata": {
            "tags": []
          },
          "execution_count": 12
        },
        {
          "output_type": "display_data",
          "data": {
            "image/png": "[encoded data removed]",
            "text/plain": [
              "<matplotlib.figure.Figure at 0x7fbfcc4aa748>"
            ]
          },
          "metadata": {
            "tags": []
          }
        }
      ]
    },
    {
      "metadata": {
        "id": "qb2_PuCei_gf",
        "colab_type": "code",
        "colab": {
          "autoexec": {
            "startup": false,
            "wait_interval": 0
          },
          "base_uri": "https://localhost:8080/",
          "height": 34
        },
        "outputId": "60270c9d-895c-43f3-e3d0-a3c94eda3aaa",
        "executionInfo": {
          "status": "ok",
          "timestamp": 1528645226404,
          "user_tz": -330,
          "elapsed": 1075,
          "user": {
            "displayName": "Divyam Srivastava",
            "photoUrl": "//lh3.googleusercontent.com/-WZcfnp5pNtk/AAAAAAAAAAI/AAAAAAAAAXo/yGhBvt-FNho/s50-c-k-no/photo.jpg",
            "userId": "112121959970026521392"
          }
        }
      },
      "cell_type": "code",
      "source": [
        "y_train[699]"
      ],
      "execution_count": 0,
      "outputs": [
        {
          "output_type": "execute_result",
          "data": {
            "text/plain": [
              "7"
            ]
          },
          "metadata": {
            "tags": []
          },
          "execution_count": 13
        }
      ]
    },
    {
      "metadata": {
        "id": "KTBQvJ5OhbxU",
        "colab_type": "text"
      },
      "cell_type": "markdown",
      "source": [
        "**Creating a logistic regression model for setting a baseline accuracy. Convolutional NeuralNets have to perform better than this atleast.**"
      ]
    },
    {
      "metadata": {
        "id": "_UAjUzUVLg2h",
        "colab_type": "code",
        "colab": {
          "autoexec": {
            "startup": false,
            "wait_interval": 0
          }
        }
      },
      "cell_type": "code",
      "source": [
        "parameters = {'C' : [0.01]}\n",
        "clf=gsc(LR(),parameters,verbose = 5)"
      ],
      "execution_count": 0,
      "outputs": []
    },
    {
      "metadata": {
        "id": "srMs_tJHLiQs",
        "colab_type": "code",
        "colab": {
          "autoexec": {
            "startup": false,
            "wait_interval": 0
          },
          "base_uri": "https://localhost:8080/",
          "height": 340
        },
        "outputId": "94093576-8eca-46b0-b28b-1b49157e9ade",
        "executionInfo": {
          "status": "ok",
          "timestamp": 1528478309174,
          "user_tz": -330,
          "elapsed": 2140423,
          "user": {
            "displayName": "Divyam Srivastava",
            "photoUrl": "//lh3.googleusercontent.com/-WZcfnp5pNtk/AAAAAAAAAAI/AAAAAAAAAXo/yGhBvt-FNho/s50-c-k-no/photo.jpg",
            "userId": "112121959970026521392"
          }
        }
      },
      "cell_type": "code",
      "source": [
        "clf.fit(X_train,y_train)"
      ],
      "execution_count": 0,
      "outputs": [
        {
          "output_type": "stream",
          "text": [
            "Fitting 3 folds for each of 1 candidates, totalling 3 fits\n",
            "[CV] C=0.01 ..........................................................\n",
            "[CV] ................. C=0.01, score=0.8917350946090682, total= 6.5min\n",
            "[CV] C=0.01 ..........................................................\n"
          ],
          "name": "stdout"
        },
        {
          "output_type": "stream",
          "text": [
            "[Parallel(n_jobs=1)]: Done   1 out of   1 | elapsed:  6.5min remaining:    0.0s\n"
          ],
          "name": "stderr"
        },
        {
          "output_type": "stream",
          "text": [
            "[CV] ................. C=0.01, score=0.9008928571428572, total= 6.9min\n",
            "[CV] C=0.01 ..........................................................\n"
          ],
          "name": "stdout"
        },
        {
          "output_type": "stream",
          "text": [
            "[Parallel(n_jobs=1)]: Done   2 out of   2 | elapsed: 13.4min remaining:    0.0s\n"
          ],
          "name": "stderr"
        },
        {
          "output_type": "stream",
          "text": [
            "[CV] ................. C=0.01, score=0.8964808860307253, total= 7.0min\n"
          ],
          "name": "stdout"
        },
        {
          "output_type": "stream",
          "text": [
            "[Parallel(n_jobs=1)]: Done   3 out of   3 | elapsed: 20.4min remaining:    0.0s\n",
            "[Parallel(n_jobs=1)]: Done   3 out of   3 | elapsed: 20.4min finished\n"
          ],
          "name": "stderr"
        },
        {
          "output_type": "execute_result",
          "data": {
            "text/plain": [
              "GridSearchCV(cv=None, error_score='raise',\n",
              "       estimator=LogisticRegression(C=1.0, class_weight=None, dual=False, fit_intercept=True,\n",
              "          intercept_scaling=1, max_iter=100, multi_class='ovr', n_jobs=1,\n",
              "          penalty='l2', random_state=None, solver='liblinear', tol=0.0001,\n",
              "          verbose=0, warm_start=False),\n",
              "       fit_params=None, iid=True, n_jobs=1, param_grid={'C': [0.01]},\n",
              "       pre_dispatch='2*n_jobs', refit=True, return_train_score='warn',\n",
              "       scoring=None, verbose=5)"
            ]
          },
          "metadata": {
            "tags": []
          },
          "execution_count": 11
        }
      ]
    },
    {
      "metadata": {
        "id": "sIAffvIgh3WJ",
        "colab_type": "text"
      },
      "cell_type": "markdown",
      "source": [
        "**Model Trained ... Dumping trained model to a pickle file**"
      ]
    },
    {
      "metadata": {
        "id": "DLsNRBd5NtIH",
        "colab_type": "code",
        "colab": {
          "autoexec": {
            "startup": false,
            "wait_interval": 0
          }
        }
      },
      "cell_type": "code",
      "source": [
        "pickle.dump(clf,open(\"LRModel.p\",\"wb\"))"
      ],
      "execution_count": 0,
      "outputs": []
    },
    {
      "metadata": {
        "id": "o6U92VykiFJq",
        "colab_type": "text"
      },
      "cell_type": "markdown",
      "source": [
        "**The Sigmoidal Model accuracy. Looks like i gotta make pretty awesome conv layers to achieve this min accuracy. **"
      ]
    },
    {
      "metadata": {
        "id": "uaBE330Ie93P",
        "colab_type": "code",
        "colab": {
          "autoexec": {
            "startup": false,
            "wait_interval": 0
          },
          "base_uri": "https://localhost:8080/",
          "height": 34
        },
        "outputId": "8ef71dfc-62b1-4c49-cceb-4452d182bbcb",
        "executionInfo": {
          "status": "ok",
          "timestamp": 1528480078027,
          "user_tz": -330,
          "elapsed": 1394,
          "user": {
            "displayName": "Divyam Srivastava",
            "photoUrl": "//lh3.googleusercontent.com/-WZcfnp5pNtk/AAAAAAAAAAI/AAAAAAAAAXo/yGhBvt-FNho/s50-c-k-no/photo.jpg",
            "userId": "112121959970026521392"
          }
        }
      },
      "cell_type": "code",
      "source": [
        "clf.score(X_test,y_test)"
      ],
      "execution_count": 0,
      "outputs": [
        {
          "output_type": "execute_result",
          "data": {
            "text/plain": [
              "0.9048809523809523"
            ]
          },
          "metadata": {
            "tags": []
          },
          "execution_count": 14
        }
      ]
    },
    {
      "metadata": {
        "id": "JFwI0HOQronr",
        "colab_type": "code",
        "colab": {
          "autoexec": {
            "startup": false,
            "wait_interval": 0
          }
        }
      },
      "cell_type": "code",
      "source": [
        "X_train_K = np.array(X_train).reshape(33600,28,28,1)   #playin around !\n",
        "X_test_K = np.array(X_test).reshape(8400,28,28,1)"
      ],
      "execution_count": 0,
      "outputs": []
    },
    {
      "metadata": {
        "id": "vRJ0W1wPVxMJ",
        "colab_type": "code",
        "colab": {
          "autoexec": {
            "startup": false,
            "wait_interval": 0
          },
          "base_uri": "https://localhost:8080/",
          "height": 34
        },
        "outputId": "058f5810-a3b3-44a1-c95e-6e0a3bd14322",
        "executionInfo": {
          "status": "ok",
          "timestamp": 1528645233783,
          "user_tz": -330,
          "elapsed": 1065,
          "user": {
            "displayName": "Divyam Srivastava",
            "photoUrl": "//lh3.googleusercontent.com/-WZcfnp5pNtk/AAAAAAAAAAI/AAAAAAAAAXo/yGhBvt-FNho/s50-c-k-no/photo.jpg",
            "userId": "112121959970026521392"
          }
        }
      },
      "cell_type": "code",
      "source": [
        "y_test.shape"
      ],
      "execution_count": 0,
      "outputs": [
        {
          "output_type": "execute_result",
          "data": {
            "text/plain": [
              "(8400,)"
            ]
          },
          "metadata": {
            "tags": []
          },
          "execution_count": 15
        }
      ]
    },
    {
      "metadata": {
        "id": "zevWw4f6GyD_",
        "colab_type": "code",
        "colab": {
          "autoexec": {
            "startup": false,
            "wait_interval": 0
          }
        }
      },
      "cell_type": "code",
      "source": [
        "y_train = np_utils.to_categorical(y_train)\n",
        "y_test = np_utils.to_categorical(y_test)\n",
        "num_classes = y_test.shape[1]"
      ],
      "execution_count": 0,
      "outputs": []
    },
    {
      "metadata": {
        "id": "NvrXLlioW0ZS",
        "colab_type": "code",
        "colab": {
          "autoexec": {
            "startup": false,
            "wait_interval": 0
          },
          "base_uri": "https://localhost:8080/",
          "height": 34
        },
        "outputId": "e8b6ad8c-0d6c-47d2-9ba4-fbe0589bf67a",
        "executionInfo": {
          "status": "ok",
          "timestamp": 1528645262171,
          "user_tz": -330,
          "elapsed": 1081,
          "user": {
            "displayName": "Divyam Srivastava",
            "photoUrl": "//lh3.googleusercontent.com/-WZcfnp5pNtk/AAAAAAAAAAI/AAAAAAAAAXo/yGhBvt-FNho/s50-c-k-no/photo.jpg",
            "userId": "112121959970026521392"
          }
        }
      },
      "cell_type": "code",
      "source": [
        "y_train.shape"
      ],
      "execution_count": 0,
      "outputs": [
        {
          "output_type": "execute_result",
          "data": {
            "text/plain": [
              "(33600, 10)"
            ]
          },
          "metadata": {
            "tags": []
          },
          "execution_count": 19
        }
      ]
    },
    {
      "metadata": {
        "id": "sVN1w_odIKYe",
        "colab_type": "code",
        "colab": {
          "autoexec": {
            "startup": false,
            "wait_interval": 0
          },
          "base_uri": "https://localhost:8080/",
          "height": 493
        },
        "outputId": "8d122946-e9f1-4d0b-f7de-3dfc8a09f092",
        "executionInfo": {
          "status": "ok",
          "timestamp": 1528646894678,
          "user_tz": -330,
          "elapsed": 1393,
          "user": {
            "displayName": "Divyam Srivastava",
            "photoUrl": "//lh3.googleusercontent.com/-WZcfnp5pNtk/AAAAAAAAAAI/AAAAAAAAAXo/yGhBvt-FNho/s50-c-k-no/photo.jpg",
            "userId": "112121959970026521392"
          }
        }
      },
      "cell_type": "code",
      "source": [
        "model = Sequential()\n",
        "model.add(Conv2D(32, (3, 3), input_shape=(28, 28, 1), padding='valid', activation='relu'))\n",
        "model.add(Conv2D(32, (3, 3), activation='relu', padding='valid'))\n",
        "model.add(MaxPooling2D(pool_size=(2, 2)))\n",
        "model.add(Conv2D(64, (3, 3), activation='relu', padding='valid'))\n",
        "model.add(Conv2D(64, (3, 3), activation='relu', padding='valid'))\n",
        "model.add(MaxPooling2D(pool_size=(2, 2)))\n",
        "\n",
        "model.add(Flatten())\n",
        "model.add(Dense(500, activation='relu'))\n",
        "model.add(Dropout(0.5))\n",
        "model.add(Dense(num_classes, activation='softmax'))\n",
        "model.compile(optimizer='Adam',\n",
        "              loss='categorical_crossentropy',\n",
        "              metrics=['accuracy'])\n",
        "print(model.summary())"
      ],
      "execution_count": 0,
      "outputs": [
        {
          "output_type": "stream",
          "text": [
            "_________________________________________________________________\n",
            "Layer (type)                 Output Shape              Param #   \n",
            "=================================================================\n",
            "conv2d_29 (Conv2D)           (None, 26, 26, 32)        320       \n",
            "_________________________________________________________________\n",
            "conv2d_30 (Conv2D)           (None, 24, 24, 32)        9248      \n",
            "_________________________________________________________________\n",
            "max_pooling2d_15 (MaxPooling (None, 12, 12, 32)        0         \n",
            "_________________________________________________________________\n",
            "conv2d_31 (Conv2D)           (None, 10, 10, 64)        18496     \n",
            "_________________________________________________________________\n",
            "conv2d_32 (Conv2D)           (None, 8, 8, 64)          36928     \n",
            "_________________________________________________________________\n",
            "max_pooling2d_16 (MaxPooling (None, 4, 4, 64)          0         \n",
            "_________________________________________________________________\n",
            "flatten_6 (Flatten)          (None, 1024)              0         \n",
            "_________________________________________________________________\n",
            "dense_11 (Dense)             (None, 500)               512500    \n",
            "_________________________________________________________________\n",
            "dropout_6 (Dropout)          (None, 500)               0         \n",
            "_________________________________________________________________\n",
            "dense_12 (Dense)             (None, 10)                5010      \n",
            "=================================================================\n",
            "Total params: 582,502\n",
            "Trainable params: 582,502\n",
            "Non-trainable params: 0\n",
            "_________________________________________________________________\n",
            "None\n"
          ],
          "name": "stdout"
        }
      ]
    },
    {
      "metadata": {
        "id": "HhnS-utzKwzt",
        "colab_type": "code",
        "colab": {
          "autoexec": {
            "startup": false,
            "wait_interval": 0
          },
          "base_uri": "https://localhost:8080/",
          "height": 921
        },
        "outputId": "e50ca654-bedf-4b46-952a-3ca59a8e9e69",
        "executionInfo": {
          "status": "ok",
          "timestamp": 1528646997746,
          "user_tz": -330,
          "elapsed": 100755,
          "user": {
            "displayName": "Divyam Srivastava",
            "photoUrl": "//lh3.googleusercontent.com/-WZcfnp5pNtk/AAAAAAAAAAI/AAAAAAAAAXo/yGhBvt-FNho/s50-c-k-no/photo.jpg",
            "userId": "112121959970026521392"
          }
        }
      },
      "cell_type": "code",
      "source": [
        "model.fit(X_train_K, y_train, validation_data=(X_test_K, y_test), epochs=25, batch_size=300)"
      ],
      "execution_count": 0,
      "outputs": [
        {
          "output_type": "stream",
          "text": [
            "Train on 33600 samples, validate on 8400 samples\n",
            "Epoch 1/25\n",
            "33600/33600 [==============================] - 5s 137us/step - loss: 1.0972 - acc: 0.8442 - val_loss: 0.0871 - val_acc: 0.9742\n",
            "Epoch 2/25\n",
            "33600/33600 [==============================] - 4s 119us/step - loss: 0.0806 - acc: 0.9742 - val_loss: 0.0589 - val_acc: 0.9810\n",
            "Epoch 3/25\n",
            "33600/33600 [==============================] - 4s 118us/step - loss: 0.0536 - acc: 0.9830 - val_loss: 0.0530 - val_acc: 0.9833\n",
            "Epoch 4/25\n",
            "33600/33600 [==============================] - 4s 117us/step - loss: 0.0384 - acc: 0.9877 - val_loss: 0.0490 - val_acc: 0.9860\n",
            "Epoch 5/25\n",
            "12900/33600 [==========>...................] - ETA: 2s - loss: 0.0323 - acc: 0.9909"
          ],
          "name": "stdout"
        },
        {
          "output_type": "stream",
          "text": [
            "33600/33600 [==============================] - 4s 118us/step - loss: 0.0310 - acc: 0.9902 - val_loss: 0.0426 - val_acc: 0.9875\n",
            "Epoch 6/25\n",
            "33600/33600 [==============================] - 4s 118us/step - loss: 0.0218 - acc: 0.9926 - val_loss: 0.0452 - val_acc: 0.9873\n",
            "Epoch 7/25\n",
            "33600/33600 [==============================] - 4s 118us/step - loss: 0.0201 - acc: 0.9935 - val_loss: 0.0494 - val_acc: 0.9876\n",
            "Epoch 8/25\n",
            "33600/33600 [==============================] - 4s 117us/step - loss: 0.0196 - acc: 0.9936 - val_loss: 0.0451 - val_acc: 0.9883\n",
            "Epoch 9/25\n",
            "30900/33600 [==========================>...] - ETA: 0s - loss: 0.0166 - acc: 0.9945"
          ],
          "name": "stdout"
        },
        {
          "output_type": "stream",
          "text": [
            "33600/33600 [==============================] - 4s 117us/step - loss: 0.0167 - acc: 0.9945 - val_loss: 0.0455 - val_acc: 0.9876\n",
            "Epoch 10/25\n",
            "33600/33600 [==============================] - 4s 117us/step - loss: 0.0172 - acc: 0.9938 - val_loss: 0.0411 - val_acc: 0.9887\n",
            "Epoch 11/25\n",
            "33600/33600 [==============================] - 4s 116us/step - loss: 0.0113 - acc: 0.9963 - val_loss: 0.0570 - val_acc: 0.9864\n",
            "Epoch 12/25\n",
            "33600/33600 [==============================] - 4s 117us/step - loss: 0.0127 - acc: 0.9958 - val_loss: 0.0500 - val_acc: 0.9869\n",
            "Epoch 13/25\n",
            "30900/33600 [==========================>...] - ETA: 0s - loss: 0.0120 - acc: 0.9958\b\b\b\b\b\b\b\b\b\b\b\b\b\b\b\b\b\b\b\b\b\b\b\b\b\b\b\b\b\b\b\b\b\b\b\b\b\b\b\b\b\b\b\b\b\b\b\b\b\b\b\b\b\b\b\b\b\b\b\b\b\b\b\b\b\b\b\b\b\b\b\b\b\b\b\b\b\b\b\b\b\b\b"
          ],
          "name": "stdout"
        },
        {
          "output_type": "stream",
          "text": [
            "33600/33600 [==============================] - 4s 118us/step - loss: 0.0122 - acc: 0.9958 - val_loss: 0.0494 - val_acc: 0.9886\n",
            "Epoch 14/25\n",
            "33600/33600 [==============================] - 4s 117us/step - loss: 0.0105 - acc: 0.9965 - val_loss: 0.0581 - val_acc: 0.9875\n",
            "Epoch 15/25\n",
            "33600/33600 [==============================] - 4s 117us/step - loss: 0.0109 - acc: 0.9964 - val_loss: 0.0524 - val_acc: 0.9871\n",
            "Epoch 16/25\n",
            "33600/33600 [==============================] - 4s 118us/step - loss: 0.0094 - acc: 0.9967 - val_loss: 0.0612 - val_acc: 0.9870\n",
            "Epoch 17/25\n",
            "30900/33600 [==========================>...] - ETA: 0s - loss: 0.0152 - acc: 0.9949"
          ],
          "name": "stdout"
        },
        {
          "output_type": "stream",
          "text": [
            "33600/33600 [==============================] - 4s 117us/step - loss: 0.0141 - acc: 0.9953 - val_loss: 0.0803 - val_acc: 0.9855\n",
            "Epoch 18/25\n",
            "33600/33600 [==============================] - 4s 118us/step - loss: 0.0105 - acc: 0.9964 - val_loss: 0.0463 - val_acc: 0.9886\n",
            "Epoch 19/25\n",
            "33600/33600 [==============================] - 4s 118us/step - loss: 0.0084 - acc: 0.9974 - val_loss: 0.0487 - val_acc: 0.9883\n",
            "Epoch 20/25\n",
            "33600/33600 [==============================] - 4s 117us/step - loss: 0.0094 - acc: 0.9968 - val_loss: 0.0647 - val_acc: 0.9868\n",
            "Epoch 21/25\n",
            "30900/33600 [==========================>...] - ETA: 0s - loss: 0.0092 - acc: 0.9968"
          ],
          "name": "stdout"
        },
        {
          "output_type": "stream",
          "text": [
            "33600/33600 [==============================] - 4s 118us/step - loss: 0.0087 - acc: 0.9970 - val_loss: 0.0495 - val_acc: 0.9886\n",
            "Epoch 22/25\n",
            "33600/33600 [==============================] - 4s 118us/step - loss: 0.0070 - acc: 0.9974 - val_loss: 0.0601 - val_acc: 0.9876\n",
            "Epoch 23/25\n",
            "33600/33600 [==============================] - 4s 117us/step - loss: 0.0096 - acc: 0.9969 - val_loss: 0.0516 - val_acc: 0.9882\n",
            "Epoch 24/25\n",
            "33600/33600 [==============================] - 4s 118us/step - loss: 0.0066 - acc: 0.9979 - val_loss: 0.0599 - val_acc: 0.9887\n",
            "Epoch 25/25\n",
            "31500/33600 [===========================>..] - ETA: 0s - loss: 0.0064 - acc: 0.9979"
          ],
          "name": "stdout"
        },
        {
          "output_type": "stream",
          "text": [
            "33600/33600 [==============================] - 4s 118us/step - loss: 0.0068 - acc: 0.9977 - val_loss: 0.0559 - val_acc: 0.9894\n"
          ],
          "name": "stdout"
        },
        {
          "output_type": "execute_result",
          "data": {
            "text/plain": [
              "<keras.callbacks.History at 0x7fbf9e04b4e0>"
            ]
          },
          "metadata": {
            "tags": []
          },
          "execution_count": 39
        }
      ]
    },
    {
      "metadata": {
        "id": "B44CZgtqRmxi",
        "colab_type": "code",
        "colab": {
          "autoexec": {
            "startup": false,
            "wait_interval": 0
          },
          "base_uri": "https://localhost:8080/",
          "height": 34
        },
        "outputId": "551de56e-68f2-4532-f415-32f7b540373b",
        "executionInfo": {
          "status": "ok",
          "timestamp": 1528647003788,
          "user_tz": -330,
          "elapsed": 2160,
          "user": {
            "displayName": "Divyam Srivastava",
            "photoUrl": "//lh3.googleusercontent.com/-WZcfnp5pNtk/AAAAAAAAAAI/AAAAAAAAAXo/yGhBvt-FNho/s50-c-k-no/photo.jpg",
            "userId": "112121959970026521392"
          }
        }
      },
      "cell_type": "code",
      "source": [
        "scores = model.evaluate(X_test_K,y_test,verbose = 0)\n",
        "print(\"Accuracy: %.2f%%\" % (scores[1]*100))"
      ],
      "execution_count": 0,
      "outputs": [
        {
          "output_type": "stream",
          "text": [
            "Accuracy: 98.94%\n"
          ],
          "name": "stdout"
        }
      ]
    },
    {
      "metadata": {
        "id": "s2yXEWY2X3SB",
        "colab_type": "text"
      },
      "cell_type": "markdown",
      "source": [
        "**Voila!!! a whopping 98.94 % accuracy **"
      ]
    },
    {
      "metadata": {
        "id": "BzvzOMHF8dBd",
        "colab_type": "code",
        "colab": {
          "autoexec": {
            "startup": false,
            "wait_interval": 0
          },
          "base_uri": "https://localhost:8080/",
          "height": 376
        },
        "outputId": "28ed8afc-1447-4403-96c2-3c671f045940",
        "executionInfo": {
          "status": "ok",
          "timestamp": 1528790618207,
          "user_tz": -180,
          "elapsed": 706,
          "user": {
            "displayName": "Prakhar Srivastava",
            "photoUrl": "//lh6.googleusercontent.com/-I2rDmBBZc00/AAAAAAAAAAI/AAAAAAAAAZ8/GKVJDsWNGAM/s50-c-k-no/photo.jpg",
            "userId": "106291526310925351039"
          }
        }
      },
      "cell_type": "code",
      "source": [
        "plt.plot(history.history['acc'])\n",
        "plt.plot(history.history['val_acc'])\n",
        "plt.title('model accuracy')\n",
        "plt.ylabel('accuracy')\n",
        "plt.xlabel('epoch')\n",
        "plt.legend(['train', 'test'], loc='best')\n",
        "plt.show()"
      ],
      "execution_count": 0,
      "outputs": [
        {
          "output_type": "display_data",
          "data": {
            "image/png": "[encoded data removed]",
            "text/plain": [
              "<matplotlib.figure.Figure at 0x7fadb3a6bba8>"
            ]
          },
          "metadata": {
            "tags": []
          }
        }
      ]
    },
    {
      "metadata": {
        "id": "j-kHSiLcHhjW",
        "colab_type": "text"
      },
      "cell_type": "markdown",
      "source": [
        "**Plotted model accuracy with epochs. Its a monotonic increasing curve!! Much expected**"
      ]
    },
    {
      "metadata": {
        "id": "MY1DsNbg8v50",
        "colab_type": "code",
        "colab": {
          "autoexec": {
            "startup": false,
            "wait_interval": 0
          },
          "base_uri": "https://localhost:8080/",
          "height": 376
        },
        "outputId": "b72d575e-41f5-46f8-820a-759f4d2c3e98",
        "executionInfo": {
          "status": "ok",
          "timestamp": 1528790620637,
          "user_tz": -180,
          "elapsed": 2222,
          "user": {
            "displayName": "Prakhar Srivastava",
            "photoUrl": "//lh6.googleusercontent.com/-I2rDmBBZc00/AAAAAAAAAAI/AAAAAAAAAZ8/GKVJDsWNGAM/s50-c-k-no/photo.jpg",
            "userId": "106291526310925351039"
          }
        }
      },
      "cell_type": "code",
      "source": [
        "plt.plot(history.history['loss'])\n",
        "plt.plot(history.history['val_loss'])\n",
        "plt.title('model loss')\n",
        "plt.ylabel('loss')\n",
        "plt.xlabel('epoch')\n",
        "plt.legend(['train', 'test'], loc='best')\n",
        "plt.show()"
      ],
      "execution_count": 0,
      "outputs": [
        {
          "output_type": "display_data",
          "data": {
            "image/png": "[encoded data removed]",
            "text/plain": [
              "<matplotlib.figure.Figure at 0x7fadb3a56fd0>"
            ]
          },
          "metadata": {
            "tags": []
          }
        }
      ]
    },
    {
      "metadata": {
        "id": "FVy6mP3NHra8",
        "colab_type": "text"
      },
      "cell_type": "markdown",
      "source": [
        "** Model Loss v/s Epochs. No overfittings as such! **"
      ]
    }
  ]
}