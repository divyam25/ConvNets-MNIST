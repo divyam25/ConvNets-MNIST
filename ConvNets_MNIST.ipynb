{
  "nbformat": 4,
  "nbformat_minor": 0,
  "metadata": {
    "colab": {
      "name": "ConvNets MNIST.ipynb",
      "version": "0.3.2",
      "views": {},
      "default_view": {},
      "provenance": [],
      "collapsed_sections": []
    },
    "kernelspec": {
      "name": "python3",
      "display_name": "Python 3"
    },
    "accelerator": "GPU"
  },
  "cells": [
    {
      "metadata": {
        "id": "Y81VQBv4TypJ",
        "colab_type": "code",
        "colab": {
          "autoexec": {
            "startup": false,
            "wait_interval": 0
          }
        }
      },
      "cell_type": "code",
      "source": [
        "!pip install -U -q PyDrive\n",
        "from pydrive.auth import GoogleAuth\n",
        "from pydrive.drive import GoogleDrive\n",
        "from google.colab import auth\n",
        "from oauth2client.client import GoogleCredentials\n",
        "import numpy as np\n",
        "import pandas as pd\n",
        "from skimage import io\n",
        "from sklearn.cross_validation import train_test_split\n",
        "from sklearn.linear_model import LogisticRegression as LR\n",
        "from sklearn.model_selection import GridSearchCV as gsc\n",
        "import pickle"
      ],
      "execution_count": 0,
      "outputs": []
    },
    {
      "metadata": {
        "id": "61pe6py4aBCL",
        "colab_type": "code",
        "colab": {
          "autoexec": {
            "startup": false,
            "wait_interval": 0
          }
        }
      },
      "cell_type": "code",
      "source": [
        "auth.authenticate_user()\n",
        "gauth = GoogleAuth()\n",
        "gauth.credentials = GoogleCredentials.get_application_default()\n",
        "drive = GoogleDrive(gauth)"
      ],
      "execution_count": 0,
      "outputs": []
    },
    {
      "metadata": {
        "id": "JTt8oUE6g3vq",
        "colab_type": "text"
      },
      "cell_type": "markdown",
      "source": [
        "**Image file loaded**"
      ]
    },
    {
      "metadata": {
        "id": "PcKBbNaHau6Q",
        "colab_type": "code",
        "colab": {
          "autoexec": {
            "startup": false,
            "wait_interval": 0
          }
        }
      },
      "cell_type": "code",
      "source": [
        "train_image = drive.CreateFile({'id' : '1D2clbBveWZ9H8JGL6a3SVBpHHp_YF9iB'})\n",
        "train_image.GetContentFile('train.csv')"
      ],
      "execution_count": 0,
      "outputs": []
    },
    {
      "metadata": {
        "id": "jNLWhLzseWrW",
        "colab_type": "code",
        "colab": {
          "autoexec": {
            "startup": false,
            "wait_interval": 0
          }
        }
      },
      "cell_type": "code",
      "source": [
        "train_data = pd.read_csv('train.csv')"
      ],
      "execution_count": 0,
      "outputs": []
    },
    {
      "metadata": {
        "id": "gXVrAkHXlfBh",
        "colab_type": "code",
        "colab": {
          "autoexec": {
            "startup": false,
            "wait_interval": 0
          }
        }
      },
      "cell_type": "code",
      "source": [
        "train_data_y = train_data.label.as_matrix()"
      ],
      "execution_count": 0,
      "outputs": []
    },
    {
      "metadata": {
        "id": "0k-upspPJt5f",
        "colab_type": "code",
        "colab": {
          "autoexec": {
            "startup": false,
            "wait_interval": 0
          }
        }
      },
      "cell_type": "code",
      "source": [
        "train_data_x = np.matrix(train_data.values[:,1:])"
      ],
      "execution_count": 0,
      "outputs": []
    },
    {
      "metadata": {
        "id": "KgV_JPV3J9dx",
        "colab_type": "code",
        "colab": {
          "autoexec": {
            "startup": false,
            "wait_interval": 0
          },
          "base_uri": "https://localhost:8080/",
          "height": 34
        },
        "outputId": "54fa4791-b273-44ac-9f27-421184be9c00",
        "executionInfo": {
          "status": "ok",
          "timestamp": 1528476146170,
          "user_tz": -330,
          "elapsed": 1144,
          "user": {
            "displayName": "Divyam Srivastava",
            "photoUrl": "//lh3.googleusercontent.com/-WZcfnp5pNtk/AAAAAAAAAAI/AAAAAAAAAXo/yGhBvt-FNho/s50-c-k-no/photo.jpg",
            "userId": "112121959970026521392"
          }
        }
      },
      "cell_type": "code",
      "source": [
        "train_data_y"
      ],
      "execution_count": 7,
      "outputs": [
        {
          "output_type": "execute_result",
          "data": {
            "text/plain": [
              "array([1, 0, 1, ..., 7, 6, 9])"
            ]
          },
          "metadata": {
            "tags": []
          },
          "execution_count": 7
        }
      ]
    },
    {
      "metadata": {
        "id": "6ItWHapcK1dr",
        "colab_type": "code",
        "colab": {
          "autoexec": {
            "startup": false,
            "wait_interval": 0
          },
          "base_uri": "https://localhost:8080/",
          "height": 136
        },
        "outputId": "319cd5e7-db4a-472f-9e6d-f8f98cdce7c1",
        "executionInfo": {
          "status": "ok",
          "timestamp": 1528476147581,
          "user_tz": -330,
          "elapsed": 1220,
          "user": {
            "displayName": "Divyam Srivastava",
            "photoUrl": "//lh3.googleusercontent.com/-WZcfnp5pNtk/AAAAAAAAAAI/AAAAAAAAAXo/yGhBvt-FNho/s50-c-k-no/photo.jpg",
            "userId": "112121959970026521392"
          }
        }
      },
      "cell_type": "code",
      "source": [
        "train_data_x\n"
      ],
      "execution_count": 8,
      "outputs": [
        {
          "output_type": "execute_result",
          "data": {
            "text/plain": [
              "matrix([[0, 0, 0, ..., 0, 0, 0],\n",
              "        [0, 0, 0, ..., 0, 0, 0],\n",
              "        [0, 0, 0, ..., 0, 0, 0],\n",
              "        ...,\n",
              "        [0, 0, 0, ..., 0, 0, 0],\n",
              "        [0, 0, 0, ..., 0, 0, 0],\n",
              "        [0, 0, 0, ..., 0, 0, 0]])"
            ]
          },
          "metadata": {
            "tags": []
          },
          "execution_count": 8
        }
      ]
    },
    {
      "metadata": {
        "id": "YAtQwAPphJNk",
        "colab_type": "text"
      },
      "cell_type": "markdown",
      "source": [
        "**Splitting the dataset into training and testing sets.**"
      ]
    },
    {
      "metadata": {
        "id": "NCBvm2xMLJ-x",
        "colab_type": "code",
        "colab": {
          "autoexec": {
            "startup": false,
            "wait_interval": 0
          }
        }
      },
      "cell_type": "code",
      "source": [
        "X_train, X_test, y_train, y_test = train_test_split(train_data_x, train_data_y, test_size = 0.2, random_state = 92)  "
      ],
      "execution_count": 0,
      "outputs": []
    },
    {
      "metadata": {
        "id": "KTBQvJ5OhbxU",
        "colab_type": "text"
      },
      "cell_type": "markdown",
      "source": [
        "**Creating a logistic regression model for setting a baseline accuracy. Convolutional NeuralNets have to perform better than this atleast.**"
      ]
    },
    {
      "metadata": {
        "id": "_UAjUzUVLg2h",
        "colab_type": "code",
        "colab": {
          "autoexec": {
            "startup": false,
            "wait_interval": 0
          }
        }
      },
      "cell_type": "code",
      "source": [
        "parameters = {'C' : [0.01]}\n",
        "clf=gsc(LR(),parameters,verbose = 5)"
      ],
      "execution_count": 0,
      "outputs": []
    },
    {
      "metadata": {
        "id": "srMs_tJHLiQs",
        "colab_type": "code",
        "colab": {
          "autoexec": {
            "startup": false,
            "wait_interval": 0
          },
          "base_uri": "https://localhost:8080/",
          "height": 340
        },
        "outputId": "94093576-8eca-46b0-b28b-1b49157e9ade",
        "executionInfo": {
          "status": "ok",
          "timestamp": 1528478309174,
          "user_tz": -330,
          "elapsed": 2140423,
          "user": {
            "displayName": "Divyam Srivastava",
            "photoUrl": "//lh3.googleusercontent.com/-WZcfnp5pNtk/AAAAAAAAAAI/AAAAAAAAAXo/yGhBvt-FNho/s50-c-k-no/photo.jpg",
            "userId": "112121959970026521392"
          }
        }
      },
      "cell_type": "code",
      "source": [
        "clf.fit(X_train,y_train)"
      ],
      "execution_count": 11,
      "outputs": [
        {
          "output_type": "stream",
          "text": [
            "Fitting 3 folds for each of 1 candidates, totalling 3 fits\n",
            "[CV] C=0.01 ..........................................................\n",
            "[CV] ................. C=0.01, score=0.8917350946090682, total= 6.5min\n",
            "[CV] C=0.01 ..........................................................\n"
          ],
          "name": "stdout"
        },
        {
          "output_type": "stream",
          "text": [
            "[Parallel(n_jobs=1)]: Done   1 out of   1 | elapsed:  6.5min remaining:    0.0s\n"
          ],
          "name": "stderr"
        },
        {
          "output_type": "stream",
          "text": [
            "[CV] ................. C=0.01, score=0.9008928571428572, total= 6.9min\n",
            "[CV] C=0.01 ..........................................................\n"
          ],
          "name": "stdout"
        },
        {
          "output_type": "stream",
          "text": [
            "[Parallel(n_jobs=1)]: Done   2 out of   2 | elapsed: 13.4min remaining:    0.0s\n"
          ],
          "name": "stderr"
        },
        {
          "output_type": "stream",
          "text": [
            "[CV] ................. C=0.01, score=0.8964808860307253, total= 7.0min\n"
          ],
          "name": "stdout"
        },
        {
          "output_type": "stream",
          "text": [
            "[Parallel(n_jobs=1)]: Done   3 out of   3 | elapsed: 20.4min remaining:    0.0s\n",
            "[Parallel(n_jobs=1)]: Done   3 out of   3 | elapsed: 20.4min finished\n"
          ],
          "name": "stderr"
        },
        {
          "output_type": "execute_result",
          "data": {
            "text/plain": [
              "GridSearchCV(cv=None, error_score='raise',\n",
              "       estimator=LogisticRegression(C=1.0, class_weight=None, dual=False, fit_intercept=True,\n",
              "          intercept_scaling=1, max_iter=100, multi_class='ovr', n_jobs=1,\n",
              "          penalty='l2', random_state=None, solver='liblinear', tol=0.0001,\n",
              "          verbose=0, warm_start=False),\n",
              "       fit_params=None, iid=True, n_jobs=1, param_grid={'C': [0.01]},\n",
              "       pre_dispatch='2*n_jobs', refit=True, return_train_score='warn',\n",
              "       scoring=None, verbose=5)"
            ]
          },
          "metadata": {
            "tags": []
          },
          "execution_count": 11
        }
      ]
    },
    {
      "metadata": {
        "id": "sIAffvIgh3WJ",
        "colab_type": "text"
      },
      "cell_type": "markdown",
      "source": [
        "**Model Trained ... Dumping trained model to a pickle file**"
      ]
    },
    {
      "metadata": {
        "id": "DLsNRBd5NtIH",
        "colab_type": "code",
        "colab": {
          "autoexec": {
            "startup": false,
            "wait_interval": 0
          }
        }
      },
      "cell_type": "code",
      "source": [
        "pickle.dump(clf,open(\"LRModel.p\",\"wb\"))"
      ],
      "execution_count": 0,
      "outputs": []
    },
    {
      "metadata": {
        "id": "o6U92VykiFJq",
        "colab_type": "text"
      },
      "cell_type": "markdown",
      "source": [
        "**The Sigmoidal Model accuracy. Looks like i gotta make pretty awesome conv layers to achieve this min accuracy. **"
      ]
    },
    {
      "metadata": {
        "id": "uaBE330Ie93P",
        "colab_type": "code",
        "colab": {
          "autoexec": {
            "startup": false,
            "wait_interval": 0
          },
          "base_uri": "https://localhost:8080/",
          "height": 34
        },
        "outputId": "8ef71dfc-62b1-4c49-cceb-4452d182bbcb",
        "executionInfo": {
          "status": "ok",
          "timestamp": 1528480078027,
          "user_tz": -330,
          "elapsed": 1394,
          "user": {
            "displayName": "Divyam Srivastava",
            "photoUrl": "//lh3.googleusercontent.com/-WZcfnp5pNtk/AAAAAAAAAAI/AAAAAAAAAXo/yGhBvt-FNho/s50-c-k-no/photo.jpg",
            "userId": "112121959970026521392"
          }
        }
      },
      "cell_type": "code",
      "source": [
        "clf.score(X_test,y_test)"
      ],
      "execution_count": 14,
      "outputs": [
        {
          "output_type": "execute_result",
          "data": {
            "text/plain": [
              "0.9048809523809523"
            ]
          },
          "metadata": {
            "tags": []
          },
          "execution_count": 14
        }
      ]
    },
    {
      "metadata": {
        "id": "mEWaBRoDfRLE",
        "colab_type": "code",
        "colab": {
          "autoexec": {
            "startup": false,
            "wait_interval": 0
          }
        }
      },
      "cell_type": "code",
      "source": [
        ""
      ],
      "execution_count": 0,
      "outputs": []
    }
  ]
}